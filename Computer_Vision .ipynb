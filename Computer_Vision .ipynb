{
  "nbformat": 4,
  "nbformat_minor": 0,
  "metadata": {
    "colab": {
      "name": "Computer Vision.ipynb",
      "provenance": [],
      "private_outputs": true,
      "collapsed_sections": [],
      "machine_shape": "hm"
    },
    "kernelspec": {
      "name": "python3",
      "display_name": "Python 3"
    },
    "accelerator": "GPU"
  },
  "cells": [
    {
      "cell_type": "code",
      "metadata": {
        "id": "7e6JDvC3X1-7",
        "colab_type": "code",
        "colab": {}
      },
      "source": [
        "!pip3 install mxnet\n",
        "!pip3 install gluoncv"
      ],
      "execution_count": null,
      "outputs": []
    },
    {
      "cell_type": "markdown",
      "metadata": {
        "id": "WK_QT44JVB05",
        "colab_type": "text"
      },
      "source": [
        "Image Classification"
      ]
    },
    {
      "cell_type": "code",
      "metadata": {
        "id": "bad29TN3kR6-",
        "colab_type": "code",
        "colab": {}
      },
      "source": [
        "import mxnet as mx\n",
        "import gluoncv as gcv\n",
        "import matplotlib.pyplot as plt\n"
      ],
      "execution_count": null,
      "outputs": []
    },
    {
      "cell_type": "code",
      "metadata": {
        "id": "a1MaB9QmkrEt",
        "colab_type": "code",
        "colab": {}
      },
      "source": [
        "image = mx.image.imread('guy.jpg')"
      ],
      "execution_count": null,
      "outputs": []
    },
    {
      "cell_type": "code",
      "metadata": {
        "id": "5AeetoGpk-sx",
        "colab_type": "code",
        "colab": {}
      },
      "source": [
        "print('type:',type(image))"
      ],
      "execution_count": null,
      "outputs": []
    },
    {
      "cell_type": "code",
      "metadata": {
        "id": "c3HsKNZZl03G",
        "colab_type": "code",
        "colab": {}
      },
      "source": [
        "print('shape:',image.shape)"
      ],
      "execution_count": null,
      "outputs": []
    },
    {
      "cell_type": "code",
      "metadata": {
        "id": "ns7_4rUxl5xf",
        "colab_type": "code",
        "colab": {}
      },
      "source": [
        "print('data type:',image.dtype)"
      ],
      "execution_count": null,
      "outputs": []
    },
    {
      "cell_type": "code",
      "metadata": {
        "id": "sgQ8WrmemDYt",
        "colab_type": "code",
        "colab": {}
      },
      "source": [
        "print('minimum value:', image.min().asscalar())\n",
        "print('maximum value:',image.max().asscalar())"
      ],
      "execution_count": null,
      "outputs": []
    },
    {
      "cell_type": "code",
      "metadata": {
        "id": "bwwUK9KKmvAq",
        "colab_type": "code",
        "colab": {}
      },
      "source": [
        "plt.imshow(image.asnumpy())"
      ],
      "execution_count": null,
      "outputs": []
    },
    {
      "cell_type": "code",
      "metadata": {
        "id": "shr7LHJEm6Cm",
        "colab_type": "code",
        "colab": {}
      },
      "source": [
        "image = gcv.data.transforms.presets.imagenet.transform_eval(image)"
      ],
      "execution_count": null,
      "outputs": []
    },
    {
      "cell_type": "code",
      "metadata": {
        "id": "o0SK6nH_pmWw",
        "colab_type": "code",
        "colab": {}
      },
      "source": [
        "print('shape:',image.shape)\n",
        "print('data type:',image.dtype)\n",
        "print('minimum value:',image.min().asscalar())\n",
        "print('maximum value:',image.max().asscalar())"
      ],
      "execution_count": null,
      "outputs": []
    },
    {
      "cell_type": "markdown",
      "metadata": {
        "id": "TXkukj_orDhL",
        "colab_type": "text"
      },
      "source": [
        "load model\n"
      ]
    },
    {
      "cell_type": "code",
      "metadata": {
        "id": "a8Wp4qAvqzTZ",
        "colab_type": "code",
        "colab": {}
      },
      "source": [
        "network = gcv.model_zoo.resnet50_v1d(pretrained=True)"
      ],
      "execution_count": null,
      "outputs": []
    },
    {
      "cell_type": "code",
      "metadata": {
        "id": "mxNCTVRRrV-N",
        "colab_type": "code",
        "colab": {}
      },
      "source": [
        "prediction = network(image)"
      ],
      "execution_count": null,
      "outputs": []
    },
    {
      "cell_type": "code",
      "metadata": {
        "id": "O6n1JIz0rp-u",
        "colab_type": "code",
        "colab": {}
      },
      "source": [
        "\n",
        "print(prediction.shape)"
      ],
      "execution_count": null,
      "outputs": []
    },
    {
      "cell_type": "code",
      "metadata": {
        "id": "RCwJK-StspLZ",
        "colab_type": "code",
        "colab": {}
      },
      "source": [
        "\n",
        "prediction = prediction[0]"
      ],
      "execution_count": null,
      "outputs": []
    },
    {
      "cell_type": "code",
      "metadata": {
        "id": "JieI0EAAsy6Y",
        "colab_type": "code",
        "colab": {}
      },
      "source": [
        "print(prediction.shape)"
      ],
      "execution_count": null,
      "outputs": []
    },
    {
      "cell_type": "code",
      "metadata": {
        "id": "hXdfK6n7s3Cm",
        "colab_type": "code",
        "colab": {}
      },
      "source": [
        "print('Skipping 950 values...')\n",
        "print(prediction[950:])"
      ],
      "execution_count": null,
      "outputs": []
    },
    {
      "cell_type": "markdown",
      "metadata": {
        "id": "h4T5PsnxtMtZ",
        "colab_type": "text"
      },
      "source": [
        "Calculate Probability"
      ]
    },
    {
      "cell_type": "code",
      "metadata": {
        "id": "Z2Mytrs9tHYR",
        "colab_type": "code",
        "colab": {}
      },
      "source": [
        "\n",
        "probability = mx.nd.softmax(prediction)"
      ],
      "execution_count": null,
      "outputs": []
    },
    {
      "cell_type": "code",
      "metadata": {
        "id": "N7UxlyPmtX7Y",
        "colab_type": "code",
        "colab": {}
      },
      "source": [
        "rounded_probability = mx.nd.round(probability*100)/100\n",
        "print('Skipping 950 values..')\n",
        "print(rounded_probability[950:])"
      ],
      "execution_count": null,
      "outputs": []
    },
    {
      "cell_type": "code",
      "metadata": {
        "id": "Temjdq_Gu1YD",
        "colab_type": "code",
        "colab": {}
      },
      "source": [
        "\n",
        "mx.nd.softmax(mx.nd.array((-0.5,0.5)))"
      ],
      "execution_count": null,
      "outputs": []
    },
    {
      "cell_type": "markdown",
      "metadata": {
        "id": "EHGHcpt2wLpw",
        "colab_type": "text"
      },
      "source": [
        "Get top-k"
      ]
    },
    {
      "cell_type": "code",
      "metadata": {
        "id": "8hYFFz27vM3r",
        "colab_type": "code",
        "colab": {}
      },
      "source": [
        "k = 5\n",
        "topk_indicies = mx.nd.topk(probability, k=k)\n",
        "topk_indicies"
      ],
      "execution_count": null,
      "outputs": []
    },
    {
      "cell_type": "code",
      "metadata": {
        "id": "NvkMPg7DwdW_",
        "colab_type": "code",
        "colab": {}
      },
      "source": [
        "network.classes[567]"
      ],
      "execution_count": null,
      "outputs": []
    },
    {
      "cell_type": "code",
      "metadata": {
        "id": "2CWxoVfXwtFT",
        "colab_type": "code",
        "colab": {}
      },
      "source": [
        "for i in range(k):\n",
        "  class_index = topk_indicies[i].astype('int').asscalar()\n",
        "  class_label = network.classes[class_index]\n",
        "  class_probability = probability[class_index]\n",
        "  print('#{} {} ({:0.3}%)'.format(i+1, class_label, class_probability.asscalar()*100))"
      ],
      "execution_count": null,
      "outputs": []
    },
    {
      "cell_type": "code",
      "metadata": {
        "id": "hnFx1w6wxi3h",
        "colab_type": "code",
        "colab": {}
      },
      "source": [
        "print('shape:',image.shape)\n",
        "print('data type:',image.dtype)\n",
        "print('minimum value:',image.min().asscalar())\n",
        "print('maximum value:',image.max().asscalar())"
      ],
      "execution_count": null,
      "outputs": []
    },
    {
      "cell_type": "markdown",
      "metadata": {
        "id": "pI6xgT-4U9Q7",
        "colab_type": "text"
      },
      "source": [
        "Object Detection\n"
      ]
    },
    {
      "cell_type": "code",
      "metadata": {
        "id": "WaUBqVtRUL2K",
        "colab_type": "code",
        "colab": {}
      },
      "source": [
        "image = mx.image.imread('guy.jpg')"
      ],
      "execution_count": null,
      "outputs": []
    },
    {
      "cell_type": "code",
      "metadata": {
        "id": "NYutydzIUhqj",
        "colab_type": "code",
        "colab": {}
      },
      "source": [
        "\n",
        "image ,chw_image = gcv.data.transforms.presets.yolo.transform_test(image, short=512)\n",
        "print('shape:',image.shape)\n",
        "print('data type:',image.dtype)\n",
        "print('minimum value:',image.min().asscalar())\n",
        "print('maximum value:',image.max().asscalar())"
      ],
      "execution_count": null,
      "outputs": []
    },
    {
      "cell_type": "code",
      "metadata": {
        "id": "pXC-gnUgU3g5",
        "colab_type": "code",
        "colab": {}
      },
      "source": [
        "plt.imshow(chw_image)"
      ],
      "execution_count": null,
      "outputs": []
    },
    {
      "cell_type": "code",
      "metadata": {
        "id": "mmGdmgytVJis",
        "colab_type": "code",
        "colab": {}
      },
      "source": [
        "\n",
        "network = gcv.model_zoo.get_model('yolo3_darknet53_coco', pretrained=True)"
      ],
      "execution_count": null,
      "outputs": []
    },
    {
      "cell_type": "code",
      "metadata": {
        "id": "nzx387nbV2Qp",
        "colab_type": "code",
        "colab": {}
      },
      "source": [
        "\n",
        "prediction = network(image)"
      ],
      "execution_count": null,
      "outputs": []
    },
    {
      "cell_type": "code",
      "metadata": {
        "id": "1WUvR6sFWAEL",
        "colab_type": "code",
        "colab": {}
      },
      "source": [
        "type(prediction)"
      ],
      "execution_count": null,
      "outputs": []
    },
    {
      "cell_type": "code",
      "metadata": {
        "id": "l9kSSkcyWLRr",
        "colab_type": "code",
        "colab": {}
      },
      "source": [
        "for index, array in enumerate(prediction):\n",
        "  print('#{} shape:{}'.format(index + 1, array.shape))"
      ],
      "execution_count": null,
      "outputs": []
    },
    {
      "cell_type": "code",
      "metadata": {
        "id": "7HVjy0CHWdMw",
        "colab_type": "code",
        "colab": {}
      },
      "source": [
        "prediction = [array[0] for array in prediction]\n",
        "class_indicies, probabilities, bounding_boxes = prediction"
      ],
      "execution_count": null,
      "outputs": []
    },
    {
      "cell_type": "code",
      "metadata": {
        "id": "cDCYXEoGXDrG",
        "colab_type": "code",
        "colab": {}
      },
      "source": [
        "k = 10\n",
        "print(class_indicies[:k])"
      ],
      "execution_count": null,
      "outputs": []
    },
    {
      "cell_type": "code",
      "metadata": {
        "id": "4BQSrK5fXO6I",
        "colab_type": "code",
        "colab": {}
      },
      "source": [
        "network.classes"
      ],
      "execution_count": null,
      "outputs": []
    },
    {
      "cell_type": "code",
      "metadata": {
        "id": "HpBHErVTXcBc",
        "colab_type": "code",
        "colab": {}
      },
      "source": [
        "print(probabilities[:k])"
      ],
      "execution_count": null,
      "outputs": []
    },
    {
      "cell_type": "code",
      "metadata": {
        "id": "2bD1PGRNXrPm",
        "colab_type": "code",
        "colab": {}
      },
      "source": [
        "print(bounding_boxes[:k])"
      ],
      "execution_count": null,
      "outputs": []
    },
    {
      "cell_type": "code",
      "metadata": {
        "id": "I5TovSEmX2M-",
        "colab_type": "code",
        "colab": {}
      },
      "source": [
        "gcv.utils.viz.plot_bbox(chw_image,bounding_boxes,probabilities,class_indicies, class_names = network.classes)"
      ],
      "execution_count": null,
      "outputs": []
    },
    {
      "cell_type": "markdown",
      "metadata": {
        "id": "vLcCVliocgES",
        "colab_type": "text"
      },
      "source": [
        "Image segmentation"
      ]
    },
    {
      "cell_type": "markdown",
      "metadata": {
        "id": "zqe4tNJuU5KL",
        "colab_type": "text"
      },
      "source": [
        ""
      ]
    },
    {
      "cell_type": "code",
      "metadata": {
        "id": "3nkHfvxsYS8T",
        "colab_type": "code",
        "colab": {}
      },
      "source": [
        "image = mx.image.imread('guy.jpg')\n",
        "print('shape:',image.shape)\n",
        "print('data type:',image.dtype)\n",
        "print('minimum value:',image.min().asscalar())\n",
        "print('maximum value:',image.max().asscalar())"
      ],
      "execution_count": null,
      "outputs": []
    },
    {
      "cell_type": "code",
      "metadata": {
        "id": "L0oMNQpJdFJw",
        "colab_type": "code",
        "colab": {}
      },
      "source": [
        "plt.imshow(image.asnumpy())"
      ],
      "execution_count": null,
      "outputs": []
    },
    {
      "cell_type": "code",
      "metadata": {
        "id": "byNnH4PFdPh6",
        "colab_type": "code",
        "colab": {}
      },
      "source": [
        "\n",
        "from mxnet.gluon.data.vision import transforms\n",
        "transform_fn = transforms.Compose([\n",
        "                                   transforms.ToTensor(),\n",
        "                                   transforms.Normalize([.485,.456,.406],[.229,.224,.225])\n",
        "])"
      ],
      "execution_count": null,
      "outputs": []
    },
    {
      "cell_type": "code",
      "metadata": {
        "id": "pAq2UmOPeI4o",
        "colab_type": "code",
        "colab": {}
      },
      "source": [
        "image = transform_fn(image)\n",
        "print('shape:',image.shape)\n",
        "print('data type:',image.dtype)\n",
        "print('minimum value:',image.min().asscalar())\n",
        "print('maximum value:', image.max().asscalar())"
      ],
      "execution_count": null,
      "outputs": []
    },
    {
      "cell_type": "code",
      "metadata": {
        "id": "fgRe5mIxemBN",
        "colab_type": "code",
        "colab": {}
      },
      "source": [
        "image = image.expand_dims(0)\n",
        "print(image.shape)"
      ],
      "execution_count": null,
      "outputs": []
    },
    {
      "cell_type": "code",
      "metadata": {
        "id": "Bi1h0JxUpnDk",
        "colab_type": "code",
        "colab": {}
      },
      "source": [
        "network = gcv.model_zoo.get_model('deeplab_resnet50_ade',pretrained=True)"
      ],
      "execution_count": null,
      "outputs": []
    },
    {
      "cell_type": "code",
      "metadata": {
        "id": "_TPClRIIezDk",
        "colab_type": "code",
        "colab": {}
      },
      "source": [
        "network = gcv.model_zoo.get_model('fcn_resnet50_ade',pretrained=True)"
      ],
      "execution_count": null,
      "outputs": []
    },
    {
      "cell_type": "code",
      "metadata": {
        "id": "aFByB_OgfEDc",
        "colab_type": "code",
        "colab": {}
      },
      "source": [
        "output = network.demo(image)\n",
        "print(output.shape)"
      ],
      "execution_count": null,
      "outputs": []
    },
    {
      "cell_type": "code",
      "metadata": {
        "id": "HesIco16fR2n",
        "colab_type": "code",
        "colab": {}
      },
      "source": [
        "output = output[0]\n",
        "print(output.shape)"
      ],
      "execution_count": null,
      "outputs": []
    },
    {
      "cell_type": "markdown",
      "metadata": {
        "id": "YhOFidw4gi1Z",
        "colab_type": "text"
      },
      "source": [
        "pixel slice\n"
      ]
    },
    {
      "cell_type": "code",
      "metadata": {
        "id": "JAvr2xnwgUiO",
        "colab_type": "code",
        "colab": {}
      },
      "source": [
        "px_height, px_width = 300, 500\n",
        "px_logit = output[:,px_height, px_width]"
      ],
      "execution_count": null,
      "outputs": []
    },
    {
      "cell_type": "code",
      "metadata": {
        "id": "YkIQdb3phBpx",
        "colab_type": "code",
        "colab": {}
      },
      "source": [
        "px_probability = mx.nd.softmax(px_logit)\n",
        "px_rounded_probability = mx.nd.round(px_probability*100)/100\n",
        "print(px_rounded_probability)"
      ],
      "execution_count": null,
      "outputs": []
    },
    {
      "cell_type": "code",
      "metadata": {
        "id": "ltQm8SQoiXlI",
        "colab_type": "code",
        "colab": {}
      },
      "source": [
        "prediction = mx.nd.argmax(output,0).asnumpy()\n",
        "print(prediction.shape)"
      ],
      "execution_count": null,
      "outputs": []
    },
    {
      "cell_type": "code",
      "metadata": {
        "id": "17fvg-LTjiX_",
        "colab_type": "code",
        "colab": {}
      },
      "source": [
        "\n",
        "print(prediction)"
      ],
      "execution_count": null,
      "outputs": []
    },
    {
      "cell_type": "code",
      "metadata": {
        "id": "kZcpDt3ej9a5",
        "colab_type": "code",
        "colab": {}
      },
      "source": [
        "from gluoncv.utils.viz import get_color_pallete\n",
        "prediction_image = get_color_pallete(prediction, 'ade20k')\n",
        "plt.imshow(prediction_image)"
      ],
      "execution_count": null,
      "outputs": []
    },
    {
      "cell_type": "code",
      "metadata": {
        "id": "K-JE9mbpkWj5",
        "colab_type": "code",
        "colab": {}
      },
      "source": [
        "from PIL import Image, ImageEnhance\n",
        "im = Image.open(\"guy.jpg\")\n",
        "enhancer = ImageEnhance.Sharpness(im)\n",
        "enhanced_im = enhancer.enhance(10.0)\n",
        "enhanced_im.save(\"enhanced.png\")"
      ],
      "execution_count": null,
      "outputs": []
    },
    {
      "cell_type": "code",
      "metadata": {
        "id": "h6DKGkXr5dqa",
        "colab_type": "code",
        "colab": {}
      },
      "source": [
        "from PIL import Image, ImageEnhance\n",
        "im = Image.open(\"guy.jpg\")\n",
        "enhancer = ImageEnhance.Brightness(im)\n",
        "enhanced_im = enhancer.enhance(1.8)\n",
        "enhanced_im.save(\"enhanced-brightness.png\")"
      ],
      "execution_count": null,
      "outputs": []
    },
    {
      "cell_type": "code",
      "metadata": {
        "id": "G2W32Yl07zPW",
        "colab_type": "code",
        "colab": {}
      },
      "source": [
        "from PIL import Image, ImageEnhance\n",
        "im = Image.open(\"guy.jpg\")\n",
        "enhancer = ImageEnhance.Contrast(im)\n",
        "enhanced_im = enhancer.enhance(4.0)\n",
        "enhanced_im.save(\"enhanced-contrast.png\")"
      ],
      "execution_count": null,
      "outputs": []
    },
    {
      "cell_type": "code",
      "metadata": {
        "id": "8Lcrh8aP8A7t",
        "colab_type": "code",
        "colab": {}
      },
      "source": [
        ""
      ],
      "execution_count": null,
      "outputs": []
    }
  ]
}